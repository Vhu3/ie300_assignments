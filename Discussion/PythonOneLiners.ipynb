{
 "cells": [
  {
   "cell_type": "markdown",
   "metadata": {},
   "source": [
    "# The Pythonic way: One Liners Exercise\n",
    "\n",
    "Complete the tasks in the code cells below.\n",
    "Try to do it in <b> one line of code </b>(or as short as possible)"
   ]
  },
  {
   "cell_type": "markdown",
   "metadata": {},
   "source": [
    "***\n",
    "## Lists: creating, filtering, sorting"
   ]
  },
  {
   "cell_type": "code",
   "execution_count": null,
   "metadata": {},
   "outputs": [],
   "source": [
    "# To create a list from m to n: A = list(range(m,n+1)) \n",
    "# 1) Generate a list A=[1,..,500]\n"
   ]
  },
  {
   "cell_type": "markdown",
   "metadata": {},
   "source": [
    "#### (*) Note about iterators\n",
    "When a list is way too long for memory storage, Python uses has <b> iterators </b> functionality. \n",
    "An iterator is a \"machine\" that <b> generates </b> elements of a list in real time, rather than \n",
    "of storing them in memroy.  The functions <b> range()</b> as well as the itertools functions (<b> product(), combinations()</b>) create iterators too.\n",
    "\n",
    "Therefore range(10**8) will not in fact be a list of $10^8$ integers.\n",
    "To create a list from an iterator such as range(), use <b> list(range(a,b)) </b>\n",
    "\n",
    "***"
   ]
  },
  {
   "cell_type": "code",
   "execution_count": null,
   "metadata": {},
   "outputs": [],
   "source": [
    "# Just a demo, no exercise\n",
    "print(range(1,10))\n",
    "print(list(range(1,10)))"
   ]
  },
  {
   "cell_type": "markdown",
   "metadata": {},
   "source": [
    "### Slicing: accessing parts of a list\n",
    "Many times, we are interested in specific parts of a list.\n",
    "<b> Slicing operations </b> are meant exactly for that.\n",
    "\n",
    "<ul>\n",
    "    <li> Access a single element at index k: A[k] </li>\n",
    "    <li> Slice all elements from k to n:  A[k:n+1] </li>\n",
    "    <li> Access last element of a list:  A[-1]  (and the one before A[-2] etc). </li>\n",
    "    <li> When a value isn't specified, the beginning default is 0, last default is -1. </li>\n",
    "    <li> Slicing operations can also skip: A[k:n+1:d]  will skip by d elements </li>\n",
    "    <li> You can reverse the order by skipping backwards: A[::-1] </li>\n",
    "</ul>\n"
   ]
  },
  {
   "cell_type": "code",
   "execution_count": null,
   "metadata": {},
   "outputs": [],
   "source": [
    "A = list(range(101))\n",
    "\n",
    "# 1) Print the first 10 elements of A\n",
    "\n",
    "# 2) Print the last 10 elements of A\n",
    "\n",
    "# 3) Print all even numbers in the first half of A by appropirate slicing\n",
    "\n",
    "# 4) Print all integers in A that are of the form 4k+7 "
   ]
  },
  {
   "cell_type": "code",
   "execution_count": null,
   "metadata": {},
   "outputs": [],
   "source": [
    "# 1) Create lists of all integer multiples of k between 0..100   \n",
    "k=5\n",
    "\n",
    "# 2) Create a list L of lists from part (1), with k increasing from 1 to 10\n"
   ]
  },
  {
   "cell_type": "markdown",
   "metadata": {},
   "source": [
    "### Summations \n",
    "The function sum(B) will return the sum of the elements of B\n",
    "(given that the addition is well defined, for example, when B is \n",
    " a list of numbers)\n",
    "\n",
    "\n",
    "\n",
    "\n"
   ]
  },
  {
   "cell_type": "code",
   "execution_count": null,
   "metadata": {},
   "outputs": [],
   "source": [
    "# 1) Print the sum of all elements of A from above\n",
    "\n",
    "# 2) Print the sum of every other element of A, starting at 1 "
   ]
  },
  {
   "cell_type": "markdown",
   "metadata": {},
   "source": [
    "***\n",
    "### Counting and testing with lists\n",
    "\n",
    "Given a list B\n",
    "\n",
    "You can easily test whether an element is contained in a list by using the \"in\" operation. The expression\n",
    "\n",
    "    x in B \n",
    "\n",
    "Will return True if x is in B, or False otherwise.\n",
    "\n",
    "You can easily count how many times an element appears in a list by using the .count() function, as follows:\n",
    "     \n",
    "     B.count(x)\n",
    "     \n",
    "will return how many times x appears in B.  Logically, \"B.count(x)>0\" and \"x in B\" are the same,\n",
    "but the latter will sometimes run faster as the search stops as soon as x is found in B. \n"
   ]
  },
  {
   "cell_type": "code",
   "execution_count": null,
   "metadata": {},
   "outputs": [],
   "source": [
    "# The line below generates 50 numbers between 1..30\n",
    "from random import randint\n",
    "B = [randint(1,31) for n in range(50)]\n",
    "\n",
    "#1) Detemine if B contains the number 19\n",
    "\n",
    "#2) Count how many times the number 4 appears in B \n",
    "\n",
    "#3) Count how many times the string '17' appears in B\n"
   ]
  },
  {
   "cell_type": "markdown",
   "metadata": {},
   "source": [
    "***\n",
    "### Strings to lists\n",
    "Strings can be thought of lists of characters. Python treats the two differently.\n",
    "Converting a string to a list can be done by applying list() to a string\n"
   ]
  },
  {
   "cell_type": "code",
   "execution_count": null,
   "metadata": {},
   "outputs": [],
   "source": [
    "S = 'Testing 123'\n",
    "\n",
    "# 1) Print a list of all characters of S\n"
   ]
  },
  {
   "cell_type": "markdown",
   "metadata": {},
   "source": [
    "# List comprehensions\n",
    "### What makes one-liners possible\n",
    "We can create lists by using other lists (or iterators). \n",
    "Assume that we have a function f, and we want to apply it to all elements of a given list B.\n",
    "\n",
    "L=[]\n",
    "\n",
    "for x in B:\n",
    "\n",
    "  $~~~$ L.append(f(x))\n",
    "\n",
    "\n",
    "\n",
    "There is a much more elegnat way, with the list comprehension syntax:\n",
    "\n",
    "   L=[f(x) for x in B]\n",
    "\n"
   ]
  },
  {
   "cell_type": "code",
   "execution_count": null,
   "metadata": {},
   "outputs": [],
   "source": [
    "# Mapping\n",
    "# 1) Print a list of all squares of B\n",
    "\n",
    "# 2) Print a list of tuples of the two rightmost digits of each squared number in B\n",
    "# Hint: use the modulo operation ( m % n gives the remainder of m divided by n)\n"
   ]
  },
  {
   "cell_type": "code",
   "execution_count": null,
   "metadata": {},
   "outputs": [],
   "source": [
    "# Filtering/sifting\n",
    "\n",
    "# 1) Print the list of all odd numbers from B\n",
    "\n",
    "# 2) Print the list of all numbers that divide by 5 from B\n",
    "\n",
    "# 3) Print the list of all numbers whose least significant digit (rightmost) is  7\n",
    "\n",
    "# 4) Create a list of all letters in the word MISSISSIPPI excluding the letter I\n"
   ]
  },
  {
   "cell_type": "markdown",
   "metadata": {},
   "source": [
    "### Sorting\n",
    "The function sort() will sort a list, given that its elements have \n",
    "well defined ordering (numbers or lexicographic characters.\n",
    "\n",
    "The function sorted(B) will return a sorted version of the list B\n"
   ]
  },
  {
   "cell_type": "code",
   "execution_count": null,
   "metadata": {},
   "outputs": [],
   "source": [
    "# 1) print the list B sorted \n",
    "\n",
    "# 2) print the list B sorted in descending order \n"
   ]
  },
  {
   "cell_type": "markdown",
   "metadata": {},
   "source": [
    "***\n",
    "## Sets\n",
    "Sets contain elements (like lists), but are unordered and an element cannot appear twice.\n",
    "You can convert any list of immutable elements (numbers, strings etc.) to a set by applying set().\n",
    "This will eliminate all multiple occurances.\n",
    "\n",
    "Sets can be also defined explicitly with braces S={element list}\n",
    "\n",
    "len(S) is the size of a set S\n",
    "\n",
    "x in S will test if S has an element\n",
    "\n",
    "S1 | S2 will generate the union of S1$\\cup$S2\n",
    "\n",
    "S1 & S2 will generate the intersection of S1$\\cap$S2\n",
    "\n",
    "S1 == S2 will test if the two sets are equal\n",
    "\n",
    "S1<=S2 will test if S1$\\subseteq$ S2  (likewise <, >, >=)\n",
    "\n",
    "for x in S: will iterate over all elments of S (no particular order)\n",
    "\n",
    "#### In most cases, lists can do the job, but sometimes sets are useful. \n",
    "\n"
   ]
  },
  {
   "cell_type": "code",
   "execution_count": null,
   "metadata": {},
   "outputs": [],
   "source": [
    "# The line below generates 50 numbers between 1..30\n",
    "from random import randint\n",
    "B = [randint(1,31) for n in range(50)]\n",
    "\n",
    "# 1) Print all the different _values_ (without repetitions) in B, count how many are there\n",
    "\n",
    "# 2) Print the union and intersection of {'a','b'} and {3,'a',4}\n",
    "\n",
    "# 3) Test is the sets {1,2,3} and {3,2,1} are the same (print the result)\n",
    "\n",
    "# 4) Test if 'a' is contained in the set {'a',2,3} (print the result)\n",
    "\n",
    "# 5) Test if {2,3} is a subset of {'a',2,3} (print the result)\n"
   ]
  },
  {
   "cell_type": "markdown",
   "metadata": {},
   "source": [
    "***\n",
    "\n",
    "\n",
    "## Combinations, Cartesian Products, and Permutations\n",
    "\n",
    "The itertools module gives some useful way to generate combinations over sets/lists\n",
    "\n",
    "The <b> product(A1,A2,...)</b> function can create product set between two or more lists (or sets)\n",
    "\n",
    "<b> product(A,repeat=n) </b> will create $A^n$.\n",
    "\n",
    "<b> combinations(B,k) </b> will create all subsets of B of size k.\n",
    "\n",
    "<b> premutations(B) </b> will create all permutations of B. \n",
    "\n",
    "<b> Note : </b> due to the (often) explosive size of those sets, Python creates iterators rather than actualy lists.\n",
    "\n",
    "\n",
    "\n"
   ]
  },
  {
   "cell_type": "code",
   "execution_count": null,
   "metadata": {},
   "outputs": [],
   "source": [
    "from itertools import product, combinations, permutations\n",
    "\n",
    "# 1) Create the product lists [1,..,500]x['a','b'] and ['a','b']x[1,..,500]\n",
    "# Compare their sizes\n",
    "\n",
    "# 2) Print the product set {'H','T'}^4 (4 tosses of a coind)\n",
    "\n",
    "# 3) Create all combinations from abcdef of size 2\n",
    "\n",
    "# 4) Print all distinct permutations of the word \"BANANA\" (use a set to remove repeated occurances)\n",
    "\n"
   ]
  },
  {
   "cell_type": "markdown",
   "metadata": {},
   "source": [
    "***\n",
    "## Random Sampling\n",
    "The library random provides routines to randomly sample elements from \n",
    "lists and sets. \n",
    "\n",
    "The function choice(B) samples one element from a list/set B\n",
    "The function choices(B,k) samples k elements from a list (with equal probability)."
   ]
  },
  {
   "cell_type": "code",
   "execution_count": null,
   "metadata": {},
   "outputs": [],
   "source": [
    "from random import choices, choice\n",
    "# The function choices(L,k) sample\n",
    "\n",
    "# 1) Sample a letter at random from the string 'MISSISSIPPI'\n",
    "\n",
    "# 2) print a list B of 20 integers randomly drawn from A =[1,...,500]\n",
    "\n",
    "# 3) print a list of 20 characters randomly drawn from 'abcdef'\n"
   ]
  },
  {
   "cell_type": "markdown",
   "metadata": {},
   "source": [
    "#### (*) A note about passing arguments\n",
    "\n",
    "Why do we have the \"k=\" in  choices(A,k) ?\n",
    "\n",
    "In Python, functions have (like any other language) arguments.\n",
    "def F(x,y,z):\n",
    "   do something\n",
    "   \n",
    "When a function gets many arguments (or has default ones), it is sometimes helpful \n",
    "to specify in the function call the argument name.  That is\n",
    "   <b> F(3,4,5) </b>\n",
    "is equivalent to\n",
    "   <b> F(x=3,y=4,z=5), F(3,4,z=5) </b>\n",
    "While it may look cumbersome, it helps with readability.  Also, you can change\n",
    "the order at which arguments are passed in that way."
   ]
  },
  {
   "cell_type": "markdown",
   "metadata": {},
   "source": [
    "***\n",
    "## Dictionaries\n",
    "\n",
    "Dictionaries are like lists, except that they are not indexed by a number, but \n",
    "by an immutable value (floating point number, string, integer, etc., and even a mixture of)\n",
    "\n",
    "Dictionaries can be defined by a list of key:value couples inside of curly braces:\n",
    "\n",
    "D = {key1: value1, key2:values}\n",
    "\n",
    "Alternatively, you can declare:\n",
    "\n",
    "D[key] = value\n",
    "\n",
    "at any point.\n"
   ]
  },
  {
   "cell_type": "code",
   "execution_count": null,
   "metadata": {},
   "outputs": [],
   "source": [
    "# Some example \n",
    "D = {'a':'Howdy', 'b':5, 4:13}\n",
    "\n",
    "print(D['a'])\n",
    "print(D[4])\n",
    "\n",
    "D['another one'] = 'bites the dust'\n",
    "print(D['another one'])\n",
    "\n",
    "\n",
    "#############################\n",
    "from random import randint\n",
    "B = [randint(1,5) for n in range(10)]\n",
    "# 1) Create a dictionary of all numbers in B below, and the count they appear in B\n",
    "\n",
    "\n",
    "\n",
    "##############################\n",
    "suits = ['H','D','S','C']\n",
    "ranks = [str(n) for n in range(2,11)]+['J','Q','K','A']\n",
    "# 2) Create a dictionary of all poker cards mapping to their suit. Check that on '4H'\n",
    "card_rank = ?\n",
    "card_rank['4H']\n",
    "\n"
   ]
  },
  {
   "cell_type": "markdown",
   "metadata": {},
   "source": [
    "***\n",
    "# String manipulation\n",
    "\n",
    "Strings in Python work a lot like lists of characters, except that all entries\n",
    "are characters (contrary to regular lists which can have mixed types, and are also mutable).\n",
    "\n",
    "Defining strings can be done between quotation marks (single or double)\n",
    "\n",
    "\"This is a Python String\"\n",
    "\n",
    "'This is also a Python String'\n",
    "\n",
    "\n",
    "Multi-line strings can be inserted with triple quotation marks:\n",
    "\n",
    " \"\"\" This is a\n",
    "     multi-line string \"\"\"\n",
    "\n",
    "\n",
    "There are simple operations such as concatentation:\n",
    "\n",
    "  \"ab\"+\"cd\" = \"abcd\"\n",
    "\n",
    "   \"100\"+\"100\" = \"100100\"\n",
    "\n",
    "(for the last one, see the short film <a href=\"https://www.youtube.com/watch?v=Zh3Yz3PiXZw\"> \"Alternative Math\" </a>\n"
   ]
  },
  {
   "cell_type": "code",
   "execution_count": null,
   "metadata": {},
   "outputs": [],
   "source": [
    "a = \"Hello\"\n",
    "b = 'world'\n",
    "\n",
    "# 1) Print a+b\n",
    "\n",
    "# 2) Add a space in between the two\n",
    "\n",
    "# 3) Print \"Hello\" (from a) and your name following (without creating a new variable)"
   ]
  },
  {
   "cell_type": "markdown",
   "metadata": {},
   "source": [
    "### Finding characters, and substrings\n",
    "\n",
    "You can use the operator \"in\" to check if a character or a substring is contained\n",
    "in a string:\n",
    " \n",
    "   'Hell' in ' Hello World\n",
    "   \n",
    " will return true.\n",
    " \n",
    " The function .find('ABC\") will return the first index in which 'ABC' was found"
   ]
  },
  {
   "cell_type": "code",
   "execution_count": null,
   "metadata": {},
   "outputs": [],
   "source": [
    "humpty = \"\"\"Humpty Dumpty sat on a wall,\n",
    "            Humpty Dumpty had a great fall;\n",
    "            All the king's horses and all the king's men\n",
    "            Couldn't put Humpty together again \"\"\"\n",
    "# 1) Determine whether the poem contains the word \"king\"\n",
    "\n",
    "# 2) Find the first index at which the word \"king\" appears\n"
   ]
  },
  {
   "cell_type": "markdown",
   "metadata": {},
   "source": [
    "## Joining list of characters/strings to a string\n",
    "\n",
    "We already know how to split a string to individual characters.\n",
    "\n",
    "The function .join in the str class composes a string from a list (or a tuple) of \n",
    "other strings.  The syntax is a bit awkward, but makes sense once you\n",
    "get used to it:\n",
    "   \n",
    "   \"separator\".join(A)\n",
    " \n",
    " will make one long string of the strings in A, separated by the\n",
    " separator\n",
    "\n",
    "\n",
    "A = ['a','bc','de']\n",
    "\n",
    "\"\".join(A)->'abccde'\n",
    "\",\".join(A)->'a,bc,de'\n",
    "\"12\".join(A)->'a12bc12de'\n"
   ]
  },
  {
   "cell_type": "code",
   "execution_count": null,
   "metadata": {},
   "outputs": [],
   "source": [
    "A = ('a','b','c','d')\n",
    "\n",
    "# 1) create a string from the characters in A\n",
    "\n",
    "# 2) create a string from the characters in A, with spaces between them\n",
    "\n",
    "# 3) create a string from the characters in A, with commas between them\n",
    "\n",
    "# 4) The permutations function returns a tuple of characters rather than \n",
    "# a string.  Use the join function to create all distinct permutations of\n",
    "# the word BANANA\n",
    "    "
   ]
  },
  {
   "cell_type": "markdown",
   "metadata": {},
   "source": [
    "## Splitting strings to words\n",
    "\n",
    "You can split a string to separate words by specifying a delimiter (such as a comma, semicolon etc.)\n",
    "\n",
    "For more complicated splitting, use the re.split() function from the <b> re </b> regular expression package:\n",
    "\n",
    "re.split('delimiter1|delimiter2|....',string)\n",
    "\n",
    "For example, splitting by either space or comma is \n",
    "\n",
    "re.split(' |,',\"Hello, and good evening\")\n",
    "\n",
    "will yield [\"Hello\",\"and\",\"good\",\"evening\"]\n"
   ]
  },
  {
   "cell_type": "code",
   "execution_count": null,
   "metadata": {},
   "outputs": [],
   "source": [
    "humpty = \"\"\"Humpty Dumpty sat on a wall,\n",
    "Humpty Dumpty had a great fall;\n",
    "All the king's horses and all the king's men\n",
    "Couldn't put Humpty together again \"\"\"\n",
    "\n",
    "# 1) Split the string to words separated by a single space\n",
    "\n",
    "import re\n",
    "# 2) Split the string to words separated by a single space, period, comma or a newline "
   ]
  },
  {
   "cell_type": "code",
   "execution_count": null,
   "metadata": {},
   "outputs": [],
   "source": [
    "# 1) Print a list of all substrings of the poem of length 6\n"
   ]
  },
  {
   "cell_type": "code",
   "execution_count": null,
   "metadata": {},
   "outputs": [],
   "source": [
    "# 1) Create a dictionary of characters in humpty and their frequency\n"
   ]
  },
  {
   "cell_type": "code",
   "execution_count": null,
   "metadata": {},
   "outputs": [],
   "source": []
  }
 ],
 "metadata": {
  "kernelspec": {
   "display_name": "Python 3",
   "language": "python",
   "name": "python3"
  },
  "language_info": {
   "codemirror_mode": {
    "name": "ipython",
    "version": 3
   },
   "file_extension": ".py",
   "mimetype": "text/x-python",
   "name": "python",
   "nbconvert_exporter": "python",
   "pygments_lexer": "ipython3",
   "version": "3.7.2"
  }
 },
 "nbformat": 4,
 "nbformat_minor": 2
}
