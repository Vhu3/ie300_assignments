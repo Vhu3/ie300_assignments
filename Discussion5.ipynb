{
 "cells": [
  {
   "cell_type": "markdown",
   "metadata": {},
   "source": [
    "$\\newcommand{\\E}{\\mathbb{E}}$\n",
    "$\\newcommand{\\pr}{\\mathbf{p}}$\n",
    "\n",
    "\n",
    "\n",
    "# Discussion 5: Sum of Largest Three Dice\n",
    "### Problem \n",
    "        Assume that four (fair) dice are rolled, with the outcomes:\n",
    "$$ X_1,X_2,X_3,X_4 \\sim \\mathcal{U}(\\{1,\\ldots,6\\}) $$\n",
    "        Let $Z$ be the sum of the <b> three largest</b> outcomes.\n",
    "        Find $\\E(Z)$.\n",
    "***\n",
    "\n",
    "### Solution (Theoretical part)\n",
    "\n",
    "<ul>\n",
    "<li>  we can write \n",
    "      $$Z= X_1+X_2+X_3+X_4-Y $$ \n",
    "        where\n",
    "        $$ Y = \\min_k X_k$$ \n",
    "        so that \n",
    "        $$\\E(Z) = \\E(X_1)+\\E(X_2)+\\E(X_3)+\\E(X_4) - \\E(Y)$$\n",
    "</li>\n",
    "\n",
    "<li> As $\\E(X_k)=3.5$ for all $k=1,\\ldots,4$, it boils down to computing $\\E(Y)$. </li>\n",
    "<li> To find $\\E(Y)$, we first need to determine its PMF. </li>\n",
    "<li> Clearly, $\\text{Im}(Y) = \\{1,\\ldots,6\\}$ as $1\\leq \\min_k (X_k) \\leq 6$. </li>\n",
    "<li> Finding $\\pr(X=k)$ involves some combinatorial analysis. Here are two solutions:\n",
    "    <ol> \n",
    "        <li> <b> Option 1: </b>\n",
    "            <ul> \n",
    "                <li> First note that\n",
    "                    $$ \\pr(Y\\geq k) = \\frac{(7-k)^4}{6^4} $$\n",
    "                    as each entry $X_k$ should be picked only from $|\\{k,k+1,\\ldots,6\\}|=7-k$\n",
    "                </li>\n",
    "                <li> Then $$ \\pr(Y>k) = \\frac{(6-k)^4}{6^4} $$, as $X_k$ \n",
    "                        must be picked from $|\\{k+1,\\ldots,6\\}|=6-k$ </li> \n",
    "                <li> We have the disjoint union:\n",
    "                    $$ \\{Y\\geq k\\} = \\{Y=k\\}\\cup \\{Y>k\\} $$ \n",
    "                (i.e. all events in which $Y=k$ and all events in which $Y>k$).\t\t\n",
    "                Therefore\n",
    "                    $$ \\pr(Y\\geq k) = \\pr(Y=k)+ \\pr(Y>k) $$\n",
    "                and if we rearrange it, we get\n",
    "                    \\begin{align*}\n",
    "                    \\pr(Y=k)&= \\pr(Y\\geq k)-\\pr(Y>k) \\\\\n",
    "                            &= \\boxed{\\frac{1}{6^4}\\Big((7-k)^4 - (6-k)^4\\Big)}\n",
    "                    \\end{align*}\n",
    "                </li>\n",
    "            </ul> \n",
    "        </li>  \n",
    "        <li> <b> Option 2: </b> \n",
    "        If $Y=k$, list all $4$-tuples $(X_1,\\ldots,X_4$ such that $Y=\\min_i(X_i)=k$. This can be\n",
    "        done in the following four distinct ways:\n",
    "\t\t\\begin{align*}\n",
    "\t\tE_1&=\\{ (k,X_2,X_3,X_4)~|~ X_2,X_3,X_4 > k \\},& \\text{ up to } {4 \\choose 1} \\text{ permutations}\\\\\n",
    "\t\tE_2&=\\{ (k,k,X_3,X_4)~|~ X_3,X_4 > k \\} & \\text{ up to } {4 \\choose 2} \\text{ permutations}\\\\\n",
    "\t\tE_3&=\\{ (k,k,k,X_4)~|~ X_4 > k\\} & \\text{ up to } {4 \\choose 3} \\text{ permutations}\\\\\n",
    "\t\tE_4&=\\{ (k,k,k,k) \\}& \\text{ no permutations}\n",
    "\t\t\\end{align*}\n",
    "\t\tOverall we have\n",
    "        \\begin{align*}\n",
    "        L_k&:=|E_1|+|E_2|+|E_3|+|E_4| \\\\\n",
    "        &= {4 \\choose 1}(6-k)^3 + {4 \\choose 2}(6-k)^2+{4 \\choose 3}(6-k) + 1  \\\\\n",
    "        &= \\sum_{j=0}^3 {4\\choose j}(6-k)^{4-j}  \n",
    "        \\end{align*}\n",
    "\t\tRecall the <a href=https://en.wikipedia.org/wiki/Binomial_theorem#Theorem_statement>binomial identity </a>\n",
    "        $$ (a+b)^n = \\sum_{j=0}^n {n\\choose j}a^jb^{n-j}$$\n",
    "        Using it, we get\n",
    "\t\t$$ {4 \\choose 0}(6-k)^4+L_k = \\sum_{n=0}^{4} {4\\choose n} (6-k)^n 1^{4-n} = (6-k+1)^4 = (7-k)^k$$\n",
    "\t\ttherefore we get\n",
    "\t\t$ L_k = (7-k)^4-(6-k)^4 $\n",
    "\t\twhich is essentially the same solution:\n",
    "\t\t$$ \\pr(Y=k) = \\frac{L_k}{6^4} = \\boxed{\\frac{1}{6^4}\\Big((7-k)^4 - (6-k)^4\\Big)} $$\n",
    "        </li>\n",
    "    </ol>\n",
    "    </li>\n",
    "</ul>"
   ]
  },
  {
   "cell_type": "markdown",
   "metadata": {},
   "source": [
    "## Utilizing Python to compute and graph PMFs, PDFs, expectations"
   ]
  },
  {
   "cell_type": "code",
   "execution_count": 113,
   "metadata": {},
   "outputs": [
    {
     "name": "stdout",
     "output_type": "stream",
     "text": [
      "[0.5177469135802469, 0.2847222222222222, 0.13503086419753085, 0.05015432098765432, 0.011574074074074073, 0.0007716049382716049]\n",
      "0.9999999999999999\n",
      "E(Y)= 1.7554012345679013\n",
      "E(Z)= 12.244598765432098\n"
     ]
    }
   ],
   "source": [
    "def pY(k):\n",
    "    return ((7-k)**4-(6-k)**4)/(6**4)\n",
    "\n",
    "pmf = [pY(k) for k in range(1,7)]\n",
    "EY = sum([k*pY(k) for k in range(1,7)])\n",
    "print(pmf)\n",
    "print(sum(pmf))\n",
    "print('E(Y)=',EY)\n",
    "print('E(Z)=',4*3.5-EY)\n"
   ]
  },
  {
   "cell_type": "code",
   "execution_count": 114,
   "metadata": {
    "collapsed": true
   },
   "outputs": [],
   "source": [
    "import matplotlib.pyplot as plt\n",
    "import numpy as np\n",
    "\n",
    "def plotPMF(ax,t,p,markersize=8):\n",
    "    ax.stem(t,p,'b:',basefmt='none')\n",
    "\n",
    "def expand_by(a,b,w):\n",
    "    d = (b-a)*w\n",
    "    return a-d,b+d\n",
    "\n",
    "def plotCDF(ax,t,p,span=None):\n",
    "    # ax: an axis object (where we plot stuff into)\n",
    "    # t: a list of values \n",
    "    # p: a list of probabilities (pmf) corresponding to t\n",
    "    # Span: a tuple (a,b) of range to plot the CDF (should contain its image)\n",
    "\n",
    "    if span is None: # If unspecified, just add 30% length at each side\n",
    "        span = expand_by(np.min(t),np.max(t),0.3)\n",
    "\n",
    "    # Make a list of points for the CDF intervals (from lowest to highest)\n",
    "    ts = np.array(sorted(list(span)+list(t))) # Add two endpoints\n",
    "    sx = np.array([ts[0:-1], ts[1:]]) # Create sections\n",
    "    CDF = np.array([0]+list(np.cumsum(p))) # Cumulative sum of p\n",
    "    \n",
    "    # First plot all horizontal line sections (stairs)\n",
    "    sy =np.array([CDF,CDF])\n",
    "    ax.plot(sx,sy,'b') \n",
    "    \n",
    "    # Plot vertical jumps \n",
    "    ax.plot(np.array([t,t]),np.array([CDF[:-1],CDF[1:]]),'b:',linewidth=0.6)\n",
    "    \n",
    "    # Next, plot the discontinuity markers (right-full, left empty)\n",
    "    ax.plot(t,CDF[0:-1],'bo',fillstyle='full',markerfacecolor='white',markersize=6)\n",
    "    ax.plot(t,CDF[1:],'bo',fillstyle='full',markersize=6)"
   ]
  },
  {
   "cell_type": "code",
   "execution_count": 115,
   "metadata": {},
   "outputs": [
    {
     "data": {
      "image/png": "[encoded data removed]",
      "text/plain": [
       "<Figure size 864x864 with 2 Axes>"
      ]
     },
     "metadata": {
      "needs_background": "light"
     },
     "output_type": "display_data"
    }
   ],
   "source": [
    "fig,ax = plt.subplots(2,1,figsize=[12,12],sharex=True)\n",
    "plotPMF(ax[0],np.arange(1,7),pmf)\n",
    "plotCDF(ax[1],np.arange(1,7),pmf,[-1,7])\n",
    "ax[0].grid(True)\n",
    "ax[1].grid(True)\n",
    "\n",
    "ax[0].set_ylabel('$p(Y=t)$')\n",
    "ax[1].set_ylabel('$F_Y(t)$')\n",
    "ax[1].set_xlabel('$t$');\n"
   ]
  },
  {
   "cell_type": "markdown",
   "metadata": {},
   "source": [
    "***\n",
    "## Brute-force computing\n",
    "This is a fairly small problem, we can create the list of all such 4-tuples,\n",
    "compute $Y$ or $Z$ for each one, and find the expectation by averaging on $\\Omega$"
   ]
  },
  {
   "cell_type": "code",
   "execution_count": 2,
   "metadata": {},
   "outputs": [],
   "source": [
    "Omega = [] # construct the list Omega of all possible dice rolls\n",
    "for i in range(6):\n",
    "    for j in range(6):\n",
    "        for k in range(6):\n",
    "            for l in range(6):\n",
    "                Omega.append((i+1, j+1, k+1, l+1))\n",
    "                \n",
    "# Alternative \n",
    "from itertools import product\n",
    "dice = [1,2,3,4,5,6] # or range(1,7)\n",
    "Omega = list(product(dice,repeat=4))"
   ]
  },
  {
   "cell_type": "code",
   "execution_count": 47,
   "metadata": {},
   "outputs": [
    {
     "data": {
      "text/plain": [
       "1296"
      ]
     },
     "execution_count": 47,
     "metadata": {},
     "output_type": "execute_result"
    }
   ],
   "source": [
    "len(Omega)"
   ]
  },
  {
   "cell_type": "markdown",
   "metadata": {},
   "source": [
    "## Computing Z(omega)\n",
    "Create a list Z, same size as Omega, such that Z[k] contains\n",
    "the value of Z(Omega[k])"
   ]
  },
  {
   "cell_type": "code",
   "execution_count": 6,
   "metadata": {
    "collapsed": true
   },
   "outputs": [],
   "source": [
    "# The traditional way - iterate over indices\n",
    "Z = []\n",
    "for i in range(len(Omega)):\n",
    "    Z.append(sum(Omega[i]) - min(Omega[i]))\n",
    "\n",
    "# Alternatively (a more idiomatic way):\n",
    "Z = []\n",
    "for om in Omega: # It will iterate at the same order of Omega (being a list)\n",
    "    Z.append(sum(om) - min(om))\n",
    "    \n",
    "# And the holy grail - list comprehensions    \n",
    "Z = [sum(om)-min(om) for om in Omega]"
   ]
  },
  {
   "cell_type": "code",
   "execution_count": 7,
   "metadata": {},
   "outputs": [
    {
     "name": "stdout",
     "output_type": "stream",
     "text": [
      "mean= 12.2445987654  variance= 8.1045232958\n"
     ]
    }
   ],
   "source": [
    "import numpy as np\n",
    "average = np.mean(Z)\n",
    "var = np.mean((Z - np.mean(Z))**2)\n",
    "print('mean=',average,' variance=',var)"
   ]
  },
  {
   "cell_type": "code",
   "execution_count": 11,
   "metadata": {},
   "outputs": [
    {
     "name": "stdout",
     "output_type": "stream",
     "text": [
      "(array([  17,   22,   27,   32,   47,   52,   57,   62,   67,   77,   82,\n",
      "         87,   92,   97,  102,  112,  117,  122,  127,  132,  147,  152,\n",
      "        157,  162,  182,  187,  192,  227,  232,  237,  242,  247,  257,\n",
      "        263,  268,  273,  278,  282,  283,  292,  298,  303,  308,  312,\n",
      "        313,  327,  333,  338,  342,  343,  362,  368,  372,  373,  397,\n",
      "        402,  403,  437,  442,  447,  452,  457,  462,  472,  478,  483,\n",
      "        488,  492,  493,  507,  513,  519,  522,  523,  524,  542,  548,\n",
      "        552,  553,  554,  577,  582,  583,  612,  652,  657,  662,  667,\n",
      "        672,  687,  693,  698,  702,  703,  722,  728,  732,  733,  734,\n",
      "        757,  762,  763,  792,  867,  872,  877,  882,  902,  908,  912,\n",
      "        913,  937,  942,  943,  972, 1082, 1087, 1092, 1117, 1122, 1123,\n",
      "       1152], dtype=int64),)\n",
      "(1, 1, 3, 6)\n"
     ]
    }
   ],
   "source": [
    "I10 = np.where(np.array(Z) == 10)\n",
    "print(I10) # all the indices in which Z==10\n",
    "print(Omega[17]) # Indeed the sum of that is 10 !"
   ]
  },
  {
   "cell_type": "markdown",
   "metadata": {},
   "source": [
    "PMF of Z:"
   ]
  },
  {
   "cell_type": "code",
   "execution_count": 104,
   "metadata": {},
   "outputs": [
    {
     "name": "stdout",
     "output_type": "stream",
     "text": [
      "{3, 4, 5, 6, 7, 8, 9, 10, 11, 12, 13, 14, 15, 16, 17, 18}\n",
      "[3, 4, 5, 6, 7, 8, 9, 10, 11, 12, 13, 14, 15, 16, 17, 18]\n"
     ]
    }
   ],
   "source": [
    "print(set(Z))\n",
    "outcome = list(set(Z))\n",
    "print(outcome)"
   ]
  },
  {
   "cell_type": "code",
   "execution_count": 105,
   "metadata": {
    "collapsed": true
   },
   "outputs": [],
   "source": [
    "pmf = []\n",
    "for k in range(len(set(Z))):\n",
    "    p = len(np.where(np.array(Z) == outcome[k])[0]) / len(Omega)\n",
    "    pmf.append(p)\n",
    "\n",
    "# Alternative\n",
    "pmf = [len(np.where(np.array(Z) == k)[0]) / len(Omega) for k in outcome]\n",
    "\n",
    "# Or even simpler\n",
    "pmf = [Z.count(k) / len(Omega) for k in outcome]"
   ]
  },
  {
   "cell_type": "code",
   "execution_count": 106,
   "metadata": {},
   "outputs": [
    {
     "data": {
      "text/plain": [
       "1.0"
      ]
     },
     "execution_count": 106,
     "metadata": {},
     "output_type": "execute_result"
    }
   ],
   "source": [
    "np.sum(pmf)"
   ]
  },
  {
   "cell_type": "code",
   "execution_count": 112,
   "metadata": {},
   "outputs": [
    {
     "data": {
      "text/plain": [
       "Text(0.5, 0, '$t$')"
      ]
     },
     "execution_count": 112,
     "metadata": {},
     "output_type": "execute_result"
    },
    {
     "data": {
      "image/png": "[encoded data removed]",
      "text/plain": [
       "<Figure size 1008x1008 with 2 Axes>"
      ]
     },
     "metadata": {
      "needs_background": "light"
     },
     "output_type": "display_data"
    }
   ],
   "source": [
    "fig,ax = plt.subplots(2,1,figsize=[14,14],sharex=True)\n",
    "plotPMF(ax[0],np.arange(3,19),pmf)\n",
    "plotCDF(ax[1],np.arange(3,19),pmf,[-5,25])\n",
    "ax[0].grid(True)\n",
    "ax[1].grid(True)\n",
    "\n",
    "ax[0].set_ylabel('$p(Z=t)$')\n",
    "ax[1].set_ylabel('$F_Z(t)$')\n",
    "ax[1].set_xlabel('$t$')\n"
   ]
  },
  {
   "cell_type": "code",
   "execution_count": null,
   "metadata": {
    "collapsed": true
   },
   "outputs": [],
   "source": []
  }
 ],
 "metadata": {
  "kernelspec": {
   "display_name": "Python 3",
   "language": "python",
   "name": "python3"
  },
  "language_info": {
   "codemirror_mode": {
    "name": "ipython",
    "version": 3
   },
   "file_extension": ".py",
   "mimetype": "text/x-python",
   "name": "python",
   "nbconvert_exporter": "python",
   "pygments_lexer": "ipython3",
   "version": "3.6.1"
  }
 },
 "nbformat": 4,
 "nbformat_minor": 2
}
